{
 "cells": [
  {
   "cell_type": "code",
   "execution_count": 1,
   "id": "9d62f5cc",
   "metadata": {},
   "outputs": [
    {
     "name": "stdout",
     "output_type": "stream",
     "text": [
      "{'вот': 1, 'птица-синица': 1, 'построил': 2, 'живет': 1, 'дом': 1, 'веселая': 2, 'в': 1, 'который': 2, 'джек.': 2, 'доме': 1}\n"
     ]
    }
   ],
   "source": [
    "# Task 1\n",
    "\n",
    "text = \"Вот дом, Который построил Джек. \" \\\n",
    "       \"Веселая птица-синица живет в доме, который построил Джек. Веселая\"\n",
    "text_list = text.replace(',', '').lower().split()\n",
    "txt_set, m = set(text_list), {}\n",
    "for word in txt_set:\n",
    "    m[word] = text_list.count(word)\n",
    "print(m)"
   ]
  },
  {
   "cell_type": "code",
   "execution_count": 2,
   "id": "f69abf9c",
   "metadata": {},
   "outputs": [
    {
     "name": "stdout",
     "output_type": "stream",
     "text": [
      "Общая стоимость фруктов: 117 гривен 00 копеек\n"
     ]
    }
   ],
   "source": [
    "# Task 2\n",
    "\n",
    "stock = {\n",
    "    \"banana\": 6,\n",
    "    \"apple\": 0,\n",
    "    \"orange\": 32,\n",
    "    \"pear\": 15\n",
    "}\n",
    "prices = {\n",
    "    \"banana\": 4,\n",
    "    \"apple\": 2,\n",
    "    \"orange\": 1.5,\n",
    "    \"pear\": 3\n",
    "}\n",
    "def total_cost(stock, prices):\n",
    "    all_key, all_price, score = [], [], 0\n",
    "    for _ in stock:\n",
    "        all_key.append(stock[_])\n",
    "    for _ in prices:\n",
    "        all_price.append(prices[_])\n",
    "    for _ in range(len(all_key)):\n",
    "        score += all_key[_] * all_price[_]\n",
    "    return score\n",
    "\n",
    "total_price = total_cost(stock, prices)\n",
    "total_cent = \"%.2f\" % total_price\n",
    "print(f'Общая стоимость фруктов: {int(total_price)} гривен {str(total_cent[-2:])} копеек')"
   ]
  },
  {
   "cell_type": "code",
   "execution_count": 3,
   "id": "b0267d12",
   "metadata": {},
   "outputs": [
    {
     "name": "stdout",
     "output_type": "stream",
     "text": [
      "[(1, 1), (2, 4), (3, 9), (4, 16), (5, 25), (6, 36), (7, 49), (8, 64), (9, 81), (10, 100)]\n"
     ]
    }
   ],
   "source": [
    "# Task 3\n",
    "\n",
    "lst = []\n",
    "for i in range(1, 11):\n",
    "    lst.append((i, i ** 2))\n",
    "print(lst)"
   ]
  }
 ],
 "metadata": {
  "kernelspec": {
   "display_name": "Python 3 (ipykernel)",
   "language": "python",
   "name": "python3"
  },
  "language_info": {
   "codemirror_mode": {
    "name": "ipython",
    "version": 3
   },
   "file_extension": ".py",
   "mimetype": "text/x-python",
   "name": "python",
   "nbconvert_exporter": "python",
   "pygments_lexer": "ipython3",
   "version": "3.10.5"
  }
 },
 "nbformat": 4,
 "nbformat_minor": 5
}
