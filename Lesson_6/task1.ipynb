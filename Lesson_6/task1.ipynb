{
 "cells": [
  {
   "cell_type": "code",
   "execution_count": 4,
   "id": "b0656cdb",
   "metadata": {},
   "outputs": [
    {
     "name": "stdout",
     "output_type": "stream",
     "text": [
      "Список чисел: [2, 52, 53, 89, 35, 23, 46, 86, 66, 88]\n",
      "Максимальное число: 89\n"
     ]
    }
   ],
   "source": [
    "import random\n",
    "new_list = random.sample(range(0, 100), 10)\n",
    "i = len(new_list) - 1\n",
    "max_number = 0\n",
    "while i != -1:\n",
    "    if new_list[i] > max_number:\n",
    "        max_number = new_list[i]\n",
    "    i -= 1\n",
    "print(f'Список чисел: {new_list}\\nМаксимальное число: {max_number}')\n"
   ]
  },
  {
   "cell_type": "code",
   "execution_count": null,
   "id": "d8aef228",
   "metadata": {},
   "outputs": [],
   "source": []
  }
 ],
 "metadata": {
  "kernelspec": {
   "display_name": "Python 3 (ipykernel)",
   "language": "python",
   "name": "python3"
  },
  "language_info": {
   "codemirror_mode": {
    "name": "ipython",
    "version": 3
   },
   "file_extension": ".py",
   "mimetype": "text/x-python",
   "name": "python",
   "nbconvert_exporter": "python",
   "pygments_lexer": "ipython3",
   "version": "3.10.5"
  }
 },
 "nbformat": 4,
 "nbformat_minor": 5
}
