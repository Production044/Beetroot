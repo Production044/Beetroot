{
 "cells": [
  {
   "cell_type": "code",
   "execution_count": 1,
   "id": "8b9809bd",
   "metadata": {},
   "outputs": [
    {
     "name": "stdout",
     "output_type": "stream",
     "text": [
      "Первый список: [4, 3, 0, 8, 10, 7, 0, 8, 6, 7]\n",
      "Второй список: [3, 5, 9, 10, 5, 10, 8, 9, 3, 10]\n",
      "Совпадения: [8, 10, 3]\n"
     ]
    }
   ],
   "source": [
    "from random import randint\n",
    "first_list, second_list, i = [], [], 10\n",
    "while i > 0:\n",
    "    first_list.append(randint(0, 10))\n",
    "    second_list.append(randint(0, 10))\n",
    "    i -= 1\n",
    "\n",
    "print(f'Первый список: {first_list}\\nВторой список: {second_list}\\n'\n",
    "      f'Совпадения: {list(set(first_list) & set(second_list))}')"
   ]
  },
  {
   "cell_type": "code",
   "execution_count": null,
   "id": "e2851880",
   "metadata": {},
   "outputs": [],
   "source": []
  }
 ],
 "metadata": {
  "kernelspec": {
   "display_name": "Python 3 (ipykernel)",
   "language": "python",
   "name": "python3"
  },
  "language_info": {
   "codemirror_mode": {
    "name": "ipython",
    "version": 3
   },
   "file_extension": ".py",
   "mimetype": "text/x-python",
   "name": "python",
   "nbconvert_exporter": "python",
   "pygments_lexer": "ipython3",
   "version": "3.10.5"
  }
 },
 "nbformat": 4,
 "nbformat_minor": 5
}
