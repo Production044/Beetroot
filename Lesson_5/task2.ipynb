{
 "cells": [
  {
   "cell_type": "code",
   "execution_count": 10,
   "id": "2ab6c931",
   "metadata": {},
   "outputs": [
    {
     "name": "stdout",
     "output_type": "stream",
     "text": [
      "Name: Dmytro\n",
      "Age: 30\n",
      "Hello Dmytro, on your next birthday you’ll be 31 years\n"
     ]
    }
   ],
   "source": [
    "print(f'Hello {input(\"Name: \")}, on your next birthday you’ll be {int(input(\"Age: \")) + 1} years')\n",
    "# Извиняюсь за одну строку, не удержался. "
   ]
  },
  {
   "cell_type": "code",
   "execution_count": null,
   "id": "995296e5",
   "metadata": {},
   "outputs": [],
   "source": []
  }
 ],
 "metadata": {
  "kernelspec": {
   "display_name": "Python 3 (ipykernel)",
   "language": "python",
   "name": "python3"
  },
  "language_info": {
   "codemirror_mode": {
    "name": "ipython",
    "version": 3
   },
   "file_extension": ".py",
   "mimetype": "text/x-python",
   "name": "python",
   "nbconvert_exporter": "python",
   "pygments_lexer": "ipython3",
   "version": "3.10.5"
  }
 },
 "nbformat": 4,
 "nbformat_minor": 5
}
