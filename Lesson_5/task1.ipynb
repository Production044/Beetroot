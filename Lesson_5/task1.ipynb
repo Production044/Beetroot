{
 "cells": [
  {
   "cell_type": "code",
   "execution_count": 2,
   "id": "528cd678",
   "metadata": {},
   "outputs": [
    {
     "name": "stdout",
     "output_type": "stream",
     "text": [
      "Какое число я загадал?\n",
      "Ответ: 1\n",
      "Вы угадали!\n"
     ]
    }
   ],
   "source": [
    "from random import randint\n",
    "while True:\n",
    "    real_number = randint(1, 10)\n",
    "    user_number = int(input('Какое число я загадал?\\nОтвет: '))\n",
    "    if real_number == user_number:\n",
    "        print('Вы угадали!')\n",
    "        break\n",
    "\n",
    "    else:\n",
    "        print('Вы ошиблись! Загаданное число:', real_number)"
   ]
  },
  {
   "cell_type": "code",
   "execution_count": null,
   "id": "c4a8d553",
   "metadata": {},
   "outputs": [],
   "source": []
  },
  {
   "cell_type": "code",
   "execution_count": null,
   "id": "b2236258",
   "metadata": {},
   "outputs": [],
   "source": [
    "# + Бонус. Решал похожую задачу с дополнительными условиями через функции:"
   ]
  },
  {
   "cell_type": "code",
   "execution_count": 3,
   "id": "37b1203c",
   "metadata": {},
   "outputs": [
    {
     "name": "stdout",
     "output_type": "stream",
     "text": [
      "Добро пожаловать в числовую угадайку\n",
      "Введите число от 1 до 100: \n",
      "5\n",
      "Слишком мало, попробуйте еще раз\n",
      "10\n",
      "Слишком мало, попробуйте еще раз\n",
      "20\n",
      "Слишком мало, попробуйте еще раз\n",
      "30\n",
      "Слишком мало, попробуйте еще раз\n",
      "60\n",
      "Слишком мало, попробуйте еще раз\n",
      "80\n",
      "Слишком много, попробуйте еще раз\n",
      "70\n",
      "Слишком мало, попробуйте еще раз\n",
      "75\n",
      "Слишком мало, попробуйте еще раз\n",
      "78\n",
      "Вы угадали, поздравляем!\n"
     ]
    }
   ],
   "source": [
    "import random\n",
    "print('Добро пожаловать в числовую угадайку\\nВведите число от 1 до 100: ')\n",
    "true_num = random.randint(1,100)\n",
    "def is_valid(n):\n",
    "    if n.isdigit() == True and 1 <= int(n) <= 100:\n",
    "        return True\n",
    "    else:\n",
    "        return False\n",
    "def input_num():\n",
    "        while True:\n",
    "            number = input()\n",
    "            if is_valid(number) == True:\n",
    "                return int(number)\n",
    "            else:\n",
    "                print('А может быть все-таки введем целое число от 1 до 100?')\n",
    "\n",
    "def compare_num():\n",
    "    while True:\n",
    "        n = input_num()\n",
    "        if n < true_num:\n",
    "            print('Слишком мало, попробуйте еще раз')\n",
    "        elif n > true_num:\n",
    "            print('Слишком много, попробуйте еще раз')\n",
    "        else:\n",
    "            print('Вы угадали, поздравляем!')\n",
    "            break\n",
    "compare_num()"
   ]
  },
  {
   "cell_type": "code",
   "execution_count": null,
   "id": "e8a83e84",
   "metadata": {},
   "outputs": [],
   "source": []
  }
 ],
 "metadata": {
  "kernelspec": {
   "display_name": "Python 3 (ipykernel)",
   "language": "python",
   "name": "python3"
  },
  "language_info": {
   "codemirror_mode": {
    "name": "ipython",
    "version": 3
   },
   "file_extension": ".py",
   "mimetype": "text/x-python",
   "name": "python",
   "nbconvert_exporter": "python",
   "pygments_lexer": "ipython3",
   "version": "3.10.5"
  }
 },
 "nbformat": 4,
 "nbformat_minor": 5
}
