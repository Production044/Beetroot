{
 "cells": [
  {
   "cell_type": "code",
   "execution_count": 4,
   "id": "d7d635e7",
   "metadata": {},
   "outputs": [
    {
     "name": "stdout",
     "output_type": "stream",
     "text": [
      "Привет мир!\n",
      "Это мой первый урок на Beetroot\n",
      "\n",
      "\n",
      "И сейчас я создаю этот код.\n",
      "Happy Pythoning!"
     ]
    }
   ],
   "source": [
    "print('Привет мир!') #вывод текста\n",
    "print('Это мой первый урок на Beetroot', end='\\n\\n\\n') #В параметре end были созданы новые линии\n",
    "print('И', 'сейчас', 'я', 'создаю', 'этот', 'код.', sep=' ') #обозначение пробела в sep параметре\n",
    "print('Happy Pythoning', end='!') # добавили знак восклицания"
   ]
  },
  {
   "cell_type": "code",
   "execution_count": null,
   "id": "7192cdc4",
   "metadata": {},
   "outputs": [],
   "source": []
  }
 ],
 "metadata": {
  "kernelspec": {
   "display_name": "Python 3 (ipykernel)",
   "language": "python",
   "name": "python3"
  },
  "language_info": {
   "codemirror_mode": {
    "name": "ipython",
    "version": 3
   },
   "file_extension": ".py",
   "mimetype": "text/x-python",
   "name": "python",
   "nbconvert_exporter": "python",
   "pygments_lexer": "ipython3",
   "version": "3.10.4"
  }
 },
 "nbformat": 4,
 "nbformat_minor": 5
}
