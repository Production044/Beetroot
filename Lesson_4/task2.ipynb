{
 "cells": [
  {
   "cell_type": "code",
   "execution_count": 6,
   "id": "6d9e7ed8",
   "metadata": {},
   "outputs": [
    {
     "name": "stdout",
     "output_type": "stream",
     "text": [
      "Введите Украинский мобильный номер. 380 включительно: 380989020802\n",
      "Valid\n"
     ]
    }
   ],
   "source": [
    "phone_number = input('Введите Украинский мобильный номер. 380 включительно: ' )\n",
    "if len(phone_number) == 12 and phone_number[:13].isdigit() and phone_number[:3].find('380') != -1:\n",
    "    print(\"Valid\")\n",
    "else:\n",
    "    print(\"Invalid\")"
   ]
  },
  {
   "cell_type": "code",
   "execution_count": null,
   "id": "2f58eb0f",
   "metadata": {},
   "outputs": [],
   "source": []
  }
 ],
 "metadata": {
  "kernelspec": {
   "display_name": "Python 3 (ipykernel)",
   "language": "python",
   "name": "python3"
  },
  "language_info": {
   "codemirror_mode": {
    "name": "ipython",
    "version": 3
   },
   "file_extension": ".py",
   "mimetype": "text/x-python",
   "name": "python",
   "nbconvert_exporter": "python",
   "pygments_lexer": "ipython3",
   "version": "3.10.5"
  }
 },
 "nbformat": 4,
 "nbformat_minor": 5
}
