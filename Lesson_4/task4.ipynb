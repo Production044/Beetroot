{
 "cells": [
  {
   "cell_type": "code",
   "execution_count": 2,
   "id": "3f08e2ef",
   "metadata": {},
   "outputs": [
    {
     "name": "stdout",
     "output_type": "stream",
     "text": [
      "Ваше имя: ДМИТРИЙ\n",
      "Все верно\n"
     ]
    }
   ],
   "source": [
    "true_name = 'Дмитрий'\n",
    "input_name = input('Ваше имя: ' )\n",
    "if true_name.lower() == input_name.lower():\n",
    "    print('Все верно')\n",
    "else:\n",
    "    print('Не верно')"
   ]
  },
  {
   "cell_type": "code",
   "execution_count": null,
   "id": "b6a40bb2",
   "metadata": {},
   "outputs": [],
   "source": []
  }
 ],
 "metadata": {
  "kernelspec": {
   "display_name": "Python 3 (ipykernel)",
   "language": "python",
   "name": "python3"
  },
  "language_info": {
   "codemirror_mode": {
    "name": "ipython",
    "version": 3
   },
   "file_extension": ".py",
   "mimetype": "text/x-python",
   "name": "python",
   "nbconvert_exporter": "python",
   "pygments_lexer": "ipython3",
   "version": "3.10.5"
  }
 },
 "nbformat": 4,
 "nbformat_minor": 5
}
