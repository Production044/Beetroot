{
 "cells": [
  {
   "cell_type": "code",
   "execution_count": 1,
   "id": "1e758818",
   "metadata": {},
   "outputs": [
    {
     "name": "stdout",
     "output_type": "stream",
     "text": [
      "2 + 2 = \n",
      "4\n",
      "Все правильно\n"
     ]
    }
   ],
   "source": [
    "print('2 + 2 = ')\n",
    "result = int(input())\n",
    "answears = 2 + 2\n",
    "\n",
    "if answears == result:\n",
    "    print(\"Все правильно\")\n",
    "else:\n",
    "    print('Подумайте')"
   ]
  },
  {
   "cell_type": "code",
   "execution_count": null,
   "id": "8aab29c1",
   "metadata": {},
   "outputs": [],
   "source": []
  }
 ],
 "metadata": {
  "kernelspec": {
   "display_name": "Python 3 (ipykernel)",
   "language": "python",
   "name": "python3"
  },
  "language_info": {
   "codemirror_mode": {
    "name": "ipython",
    "version": 3
   },
   "file_extension": ".py",
   "mimetype": "text/x-python",
   "name": "python",
   "nbconvert_exporter": "python",
   "pygments_lexer": "ipython3",
   "version": "3.10.5"
  }
 },
 "nbformat": 4,
 "nbformat_minor": 5
}
