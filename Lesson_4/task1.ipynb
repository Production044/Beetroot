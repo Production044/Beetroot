{
 "cells": [
  {
   "cell_type": "code",
   "execution_count": 3,
   "id": "71a49182",
   "metadata": {},
   "outputs": [
    {
     "name": "stdout",
     "output_type": "stream",
     "text": [
      "helloworld\n",
      "held\n"
     ]
    }
   ],
   "source": [
    "txt = input()\n",
    "if len(txt) == 1:\n",
    "    print('')\n",
    "elif len(txt) == 2:\n",
    "    print(txt + txt)\n",
    "else:\n",
    "    print(txt[:2] + txt[-2:])"
   ]
  },
  {
   "cell_type": "code",
   "execution_count": null,
   "id": "96ae2705",
   "metadata": {},
   "outputs": [],
   "source": []
  }
 ],
 "metadata": {
  "kernelspec": {
   "display_name": "Python 3 (ipykernel)",
   "language": "python",
   "name": "python3"
  },
  "language_info": {
   "codemirror_mode": {
    "name": "ipython",
    "version": 3
   },
   "file_extension": ".py",
   "mimetype": "text/x-python",
   "name": "python",
   "nbconvert_exporter": "python",
   "pygments_lexer": "ipython3",
   "version": "3.10.5"
  }
 },
 "nbformat": 4,
 "nbformat_minor": 5
}
