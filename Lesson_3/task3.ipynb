{
 "cells": [
  {
   "cell_type": "code",
   "execution_count": 1,
   "id": "ed4911e2",
   "metadata": {},
   "outputs": [
    {
     "name": "stdout",
     "output_type": "stream",
     "text": [
      "Addition 5 + 10 = 15\n",
      "Subtraction 5 - 10 = -5\n",
      "Division 5 / 10 = 0.5\n",
      "Multiplication 5 * 10 = 50\n",
      "Exponent (Power) 5 ** 10 = 9765625\n",
      "Modulus 5 % 10 = 5\n",
      "Floor division 5 // 10 = 0\n"
     ]
    }
   ],
   "source": [
    "a, b, e = 5, 10, 2.718281828459045\n",
    "print('Addition ' + str(a) + ' + ' + str(b) + ' = ' + str(a + b),\n",
    "      'Subtraction ' + str(a) + ' - ' + str(b) + ' = ' + str(a - b),\n",
    "      'Division ' + str(a) + ' / ' + str(b) + ' = ' + str(a / b),\n",
    "      'Multiplication ' + str(a) + ' * ' + str(b) + ' = ' + str(a * b),\n",
    "      'Exponent (Power) ' + str(a) + ' ** ' + str(b) + ' = ' + str(a ** b),\n",
    "      'Modulus ' + str(a) + ' % ' + str(b) + ' = ' + str(a % b),\n",
    "      'Floor division ' + str(a) + ' // ' + str(b) + ' = ' + str(a // b), sep='\\n')"
   ]
  },
  {
   "cell_type": "code",
   "execution_count": null,
   "id": "67dbc92b",
   "metadata": {},
   "outputs": [],
   "source": []
  }
 ],
 "metadata": {
  "kernelspec": {
   "display_name": "Python 3 (ipykernel)",
   "language": "python",
   "name": "python3"
  },
  "language_info": {
   "codemirror_mode": {
    "name": "ipython",
    "version": 3
   },
   "file_extension": ".py",
   "mimetype": "text/x-python",
   "name": "python",
   "nbconvert_exporter": "python",
   "pygments_lexer": "ipython3",
   "version": "3.10.5"
  }
 },
 "nbformat": 4,
 "nbformat_minor": 5
}
