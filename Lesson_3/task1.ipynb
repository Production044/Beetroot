{
 "cells": [
  {
   "cell_type": "code",
   "execution_count": 1,
   "id": "49507c16",
   "metadata": {},
   "outputs": [
    {
     "name": "stdout",
     "output_type": "stream",
     "text": [
      "Good day Dmytro! 17 of June is a perfect day to learn some python.\n"
     ]
    }
   ],
   "source": [
    "name, day = 'Dmytro', '17 of June'\n",
    "print('Good day', name + '!', day, 'is a perfect day to learn some python.')"
   ]
  },
  {
   "cell_type": "code",
   "execution_count": null,
   "id": "827468c5",
   "metadata": {},
   "outputs": [],
   "source": []
  }
 ],
 "metadata": {
  "kernelspec": {
   "display_name": "Python 3 (ipykernel)",
   "language": "python",
   "name": "python3"
  },
  "language_info": {
   "codemirror_mode": {
    "name": "ipython",
    "version": 3
   },
   "file_extension": ".py",
   "mimetype": "text/x-python",
   "name": "python",
   "nbconvert_exporter": "python",
   "pygments_lexer": "ipython3",
   "version": "3.10.5"
  }
 },
 "nbformat": 4,
 "nbformat_minor": 5
}
