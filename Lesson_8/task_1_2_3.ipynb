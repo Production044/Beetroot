{
 "cells": [
  {
   "cell_type": "code",
   "execution_count": 1,
   "id": "61055bba",
   "metadata": {},
   "outputs": [
    {
     "name": "stdout",
     "output_type": "stream",
     "text": [
      "Big Kush\n",
      "Мой любимый фильм: Big Kush\n"
     ]
    }
   ],
   "source": [
    "def favorite_movie():\n",
    "    return print(f'Мой любимый фильм: {input()}')\n",
    "\n",
    "\n",
    "favorite_movie()"
   ]
  },
  {
   "cell_type": "code",
   "execution_count": null,
   "id": "b13159db",
   "metadata": {},
   "outputs": [],
   "source": []
  },
  {
   "cell_type": "code",
   "execution_count": 2,
   "id": "5acf19d3",
   "metadata": {},
   "outputs": [
    {
     "name": "stdout",
     "output_type": "stream",
     "text": [
      "{'name': 'Kyiv', 'country': 'Ukraine'}\n"
     ]
    }
   ],
   "source": [
    "def make_country(name, country):\n",
    "    diction = {}\n",
    "    if name.isalpha() and country.isalpha():\n",
    "        diction.update({'name': name, 'country' : country})\n",
    "        return diction\n",
    "    else:\n",
    "        print('Данные введены не верно')\n",
    "\n",
    "\n",
    "name = 'Kyiv'\n",
    "country = 'Ukraine'\n",
    "print(make_country(name, country))"
   ]
  },
  {
   "cell_type": "code",
   "execution_count": null,
   "id": "e6390dcc",
   "metadata": {},
   "outputs": [],
   "source": []
  },
  {
   "cell_type": "code",
   "execution_count": 3,
   "id": "4617614e",
   "metadata": {},
   "outputs": [
    {
     "name": "stdout",
     "output_type": "stream",
     "text": [
      "Sum:  16\n"
     ]
    }
   ],
   "source": [
    "def simple_calculator(operation, *args):\n",
    "    sum = args[0]\n",
    "    if operation == '-':\n",
    "        for n in args[1:]:\n",
    "            sum -= n\n",
    "        print(\"Sum: \", sum)\n",
    "    \n",
    "    if operation == '*':\n",
    "        for n in args[1:]:\n",
    "            sum *= n \n",
    "        print(\"Sum: \", sum)\n",
    "    \n",
    "    if operation == '+':\n",
    "        for n in args[1:]:\n",
    "            sum += n\n",
    "        print(\"Sum: \", sum)        \n",
    "    \n",
    "\n",
    "operation = '+'    \n",
    "simple_calculator(operation, 7, 7, 2)"
   ]
  },
  {
   "cell_type": "code",
   "execution_count": null,
   "id": "3c883696",
   "metadata": {},
   "outputs": [],
   "source": []
  },
  {
   "cell_type": "code",
   "execution_count": null,
   "id": "b244befd",
   "metadata": {},
   "outputs": [],
   "source": [
    "import json\n",
    "from bs4 import BeautifulSoup\n",
    "import requests\n",
    "\n",
    "url = \"https://www.netflix.com/browse/genre/34399\"\n",
    "response = requests.get(url)\n",
    "html = response.content\n",
    "soup = BeautifulSoup(html, 'html.parser')\n",
    "\n",
    "parent_div = soup.find('div', {'class': 'nm-content-horizontal-row'})\n",
    "results = parent_div.find_all('span', {'class': 'nm-collections-title-name'})\n",
    "img = parent_div.find_all('img', {'class': 'nm-collections-title-img'})\n",
    "link = parent_div.find_all('a', class_=\"nm-collections-title nm-collections-link\")\n",
    "\n",
    "title_list, img_list, link_list, border  = [], [], [], '*'\n",
    "\n",
    "for k in range(len(results)):\n",
    "    if img[k]['src'][:4] == 'data':\n",
    "        img_list.append('Sorry, image not found.')\n",
    "    else:\n",
    "        img_list.append(img[k]['src'])\n",
    "\n",
    "for i in range(len(results)):\n",
    "    title_list.append((f\"Movie: {results[i].text}\\n\"\n",
    "                       f\"Link:  {link[i]['href']}\\n\"\n",
    "                       f\"Image: {img_list[i]}\\n\"\n",
    "                       f\"{border  * 50}\"))\n",
    "for output in title_list:\n",
    "    print(output)\n",
    "\n",
    "with open('book.json', 'w') as file:\n",
    "    json.dump(title_list, file, indent=4)"
   ]
  }
 ],
 "metadata": {
  "kernelspec": {
   "display_name": "Python 3 (ipykernel)",
   "language": "python",
   "name": "python3"
  },
  "language_info": {
   "codemirror_mode": {
    "name": "ipython",
    "version": 3
   },
   "file_extension": ".py",
   "mimetype": "text/x-python",
   "name": "python",
   "nbconvert_exporter": "python",
   "pygments_lexer": "ipython3",
   "version": "3.10.5"
  }
 },
 "nbformat": 4,
 "nbformat_minor": 5
}
