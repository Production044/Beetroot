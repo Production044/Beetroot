{
 "cells": [
  {
   "cell_type": "code",
   "execution_count": 1,
   "id": "10909279",
   "metadata": {},
   "outputs": [
    {
     "name": "stdout",
     "output_type": "stream",
     "text": [
      "Big Kush\n",
      "Мой любимый фильм: Big Kush\n"
     ]
    }
   ],
   "source": [
    "def favorite_movie():\n",
    "    return print(f'Мой любимый фильм: {input()}')\n",
    "\n",
    "\n",
    "favorite_movie()"
   ]
  },
  {
   "cell_type": "code",
   "execution_count": null,
   "id": "b2842ee7",
   "metadata": {},
   "outputs": [],
   "source": []
  },
  {
   "cell_type": "code",
   "execution_count": 2,
   "id": "ac0fc03f",
   "metadata": {},
   "outputs": [
    {
     "name": "stdout",
     "output_type": "stream",
     "text": [
      "{'name': 'Kyiv', 'country': 'Ukraine'}\n"
     ]
    }
   ],
   "source": [
    "def make_country(name, country):\n",
    "    diction = {}\n",
    "    if name.isalpha() and country.isalpha():\n",
    "        diction.update({'name': name, 'country' : country})\n",
    "        return diction\n",
    "    else:\n",
    "        print('Данные введены не верно')\n",
    "\n",
    "\n",
    "name = 'Kyiv'\n",
    "country = 'Ukraine'\n",
    "print(make_country(name, country))"
   ]
  },
  {
   "cell_type": "code",
   "execution_count": null,
   "id": "515d4952",
   "metadata": {},
   "outputs": [],
   "source": []
  },
  {
   "cell_type": "code",
   "execution_count": 3,
   "id": "199b5271",
   "metadata": {},
   "outputs": [
    {
     "name": "stdout",
     "output_type": "stream",
     "text": [
      "Sum:  16\n"
     ]
    }
   ],
   "source": [
    "def simple_calculator(operation, *args):\n",
    "    sum = args[0]\n",
    "    if operation == '-':\n",
    "        for n in args[1:]:\n",
    "            sum -= n\n",
    "        print(\"Sum: \", sum)\n",
    "    \n",
    "    if operation == '*':\n",
    "        for n in args[1:]:\n",
    "            sum *= n \n",
    "        print(\"Sum: \", sum)\n",
    "    \n",
    "    if operation == '+':\n",
    "        for n in args[1:]:\n",
    "            sum += n\n",
    "        print(\"Sum: \", sum)        \n",
    "    \n",
    "\n",
    "operation = '+'    \n",
    "simple_calculator(operation, 7, 7, 2)"
   ]
  },
  {
   "cell_type": "code",
   "execution_count": null,
   "id": "32c90952",
   "metadata": {},
   "outputs": [],
   "source": []
  }
 ],
 "metadata": {
  "kernelspec": {
   "display_name": "Python 3 (ipykernel)",
   "language": "python",
   "name": "python3"
  },
  "language_info": {
   "codemirror_mode": {
    "name": "ipython",
    "version": 3
   },
   "file_extension": ".py",
   "mimetype": "text/x-python",
   "name": "python",
   "nbconvert_exporter": "python",
   "pygments_lexer": "ipython3",
   "version": "3.10.5"
  }
 },
 "nbformat": 4,
 "nbformat_minor": 5
}
